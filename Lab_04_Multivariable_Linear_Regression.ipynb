{
 "cells": [
  {
   "cell_type": "markdown",
   "metadata": {},
   "source": [
    "# 1. Multivariable Linear Regression"
   ]
  },
  {
   "cell_type": "code",
   "execution_count": 4,
   "metadata": {},
   "outputs": [
    {
     "name": "stdout",
     "output_type": "stream",
     "text": [
      "Epoch    0/20 hypothesis: tensor([0., 0., 0., 0., 0.]) Cost: 29661.800781\n",
      "Epoch    1/20 hypothesis: tensor([67.2578, 80.8397, 79.6523, 86.7394, 61.6605]) Cost: 9298.520508\n",
      "Epoch    2/20 hypothesis: tensor([104.9128, 126.0990, 124.2466, 135.3015,  96.1821]) Cost: 2915.712402\n",
      "Epoch    3/20 hypothesis: tensor([125.9942, 151.4381, 149.2133, 162.4896, 115.5097]) Cost: 915.040527\n",
      "Epoch    4/20 hypothesis: tensor([137.7968, 165.6247, 163.1911, 177.7112, 126.3307]) Cost: 287.936005\n",
      "Epoch    5/20 hypothesis: tensor([144.4044, 173.5674, 171.0168, 186.2332, 132.3891]) Cost: 91.371010\n",
      "Epoch    6/20 hypothesis: tensor([148.1035, 178.0144, 175.3980, 191.0042, 135.7812]) Cost: 29.758139\n",
      "Epoch    7/20 hypothesis: tensor([150.1744, 180.5042, 177.8508, 193.6753, 137.6805]) Cost: 10.445305\n",
      "Epoch    8/20 hypothesis: tensor([151.3336, 181.8983, 179.2240, 195.1707, 138.7440]) Cost: 4.391228\n",
      "Epoch    9/20 hypothesis: tensor([151.9824, 182.6789, 179.9928, 196.0079, 139.3396]) Cost: 2.493135\n",
      "Epoch   10/20 hypothesis: tensor([152.3454, 183.1161, 180.4231, 196.4765, 139.6732]) Cost: 1.897688\n",
      "Epoch   11/20 hypothesis: tensor([152.5485, 183.3610, 180.6640, 196.7389, 139.8602]) Cost: 1.710541\n",
      "Epoch   12/20 hypothesis: tensor([152.6620, 183.4982, 180.7988, 196.8857, 139.9651]) Cost: 1.651412\n",
      "Epoch   13/20 hypothesis: tensor([152.7253, 183.5752, 180.8742, 196.9678, 140.0240]) Cost: 1.632387\n",
      "Epoch   14/20 hypothesis: tensor([152.7606, 183.6184, 180.9164, 197.0138, 140.0571]) Cost: 1.625923\n",
      "Epoch   15/20 hypothesis: tensor([152.7802, 183.6427, 180.9399, 197.0395, 140.0759]) Cost: 1.623412\n",
      "Epoch   16/20 hypothesis: tensor([152.7909, 183.6565, 180.9530, 197.0538, 140.0865]) Cost: 1.622141\n",
      "Epoch   17/20 hypothesis: tensor([152.7968, 183.6643, 180.9603, 197.0618, 140.0927]) Cost: 1.621253\n",
      "Epoch   18/20 hypothesis: tensor([152.7999, 183.6688, 180.9644, 197.0662, 140.0963]) Cost: 1.620500\n",
      "Epoch   19/20 hypothesis: tensor([152.8014, 183.6715, 180.9666, 197.0686, 140.0985]) Cost: 1.619770\n",
      "Epoch   20/20 hypothesis: tensor([152.8020, 183.6731, 180.9677, 197.0699, 140.1000]) Cost: 1.619033\n"
     ]
    }
   ],
   "source": [
    "import torch\n",
    "from torch import optim\n",
    "\n",
    "# 데이터\n",
    "x_train = torch.FloatTensor([[73, 80, 75],\n",
    "                             [93, 88, 93],\n",
    "                             [89, 91, 90],\n",
    "                             [96, 98, 100],\n",
    "                             [73, 66, 70]])\n",
    "y_train = torch.FloatTensor([[152], [185], [180], [196], [142]])\n",
    "\n",
    "# 모델 초기화\n",
    "W = torch.zeros((3, 1), requires_grad=True)\n",
    "b = torch.zeros(1, requires_grad=True)\n",
    "\n",
    "# optimizer 설정\n",
    "optimizer = optim.SGD([W, b], lr=1e-5)\n",
    "\n",
    "nb_epochs = 20\n",
    "for epoch in range(nb_epochs + 1):\n",
    "    # H(x) 계산\n",
    "    hypothesis = x_train.matmul(W) + b\n",
    "    \n",
    "    # cost 계산\n",
    "    cost = torch.mean((hypothesis - y_train) ** 2)\n",
    "    \n",
    "    # cost로 H(x) 개선\n",
    "    optimizer.zero_grad()\n",
    "    cost.backward()\n",
    "    optimizer.step()\n",
    "    \n",
    "    print('Epoch {:4d}/{} hypothesis: {} Cost: {:.6f}'.format(\n",
    "        epoch, nb_epochs, hypothesis.squeeze().detach(),\n",
    "        cost.item()\n",
    "    ))"
   ]
  },
  {
   "cell_type": "markdown",
   "metadata": {},
   "source": [
    "# 2. Multivariable Linear Regression with nn.Module and nn.functional"
   ]
  },
  {
   "cell_type": "code",
   "execution_count": 5,
   "metadata": {},
   "outputs": [],
   "source": [
    "import torch\n",
    "from torch import optim\n",
    "import torch.nn as nn\n",
    "import torch.nn.functional as F"
   ]
  },
  {
   "cell_type": "code",
   "execution_count": 6,
   "metadata": {},
   "outputs": [],
   "source": [
    "class MultivariateLinearRegressionModel(nn.Module):\n",
    "    def __init__(self):\n",
    "        super().__init__()\n",
    "        self.linear = nn.Linear(3, 1) # 입력차원: 3, 출력차원: 1\n",
    "    \n",
    "    def forward(self, x): # Hypothesis 계산\n",
    "        return self.linear(x)"
   ]
  },
  {
   "cell_type": "code",
   "execution_count": 8,
   "metadata": {},
   "outputs": [
    {
     "name": "stdout",
     "output_type": "stream",
     "text": [
      "Epoch    0/20 hypothesis: tensor([152.8020, 183.6731, 180.9677, 197.0699, 140.1000]) Cost: 80207.101562\n",
      "Epoch    1/20 hypothesis: tensor([152.8020, 183.6731, 180.9677, 197.0699, 140.1000]) Cost: 25141.064453\n",
      "Epoch    2/20 hypothesis: tensor([152.8020, 183.6731, 180.9677, 197.0699, 140.1000]) Cost: 7880.781250\n",
      "Epoch    3/20 hypothesis: tensor([152.8020, 183.6731, 180.9677, 197.0699, 140.1000]) Cost: 2470.600098\n",
      "Epoch    4/20 hypothesis: tensor([152.8020, 183.6731, 180.9677, 197.0699, 140.1000]) Cost: 774.795471\n",
      "Epoch    5/20 hypothesis: tensor([152.8020, 183.6731, 180.9677, 197.0699, 140.1000]) Cost: 243.250900\n",
      "Epoch    6/20 hypothesis: tensor([152.8020, 183.6731, 180.9677, 197.0699, 140.1000]) Cost: 76.639267\n",
      "Epoch    7/20 hypothesis: tensor([152.8020, 183.6731, 180.9677, 197.0699, 140.1000]) Cost: 24.415552\n",
      "Epoch    8/20 hypothesis: tensor([152.8020, 183.6731, 180.9677, 197.0699, 140.1000]) Cost: 8.045964\n",
      "Epoch    9/20 hypothesis: tensor([152.8020, 183.6731, 180.9677, 197.0699, 140.1000]) Cost: 2.914878\n",
      "Epoch   10/20 hypothesis: tensor([152.8020, 183.6731, 180.9677, 197.0699, 140.1000]) Cost: 1.306375\n",
      "Epoch   11/20 hypothesis: tensor([152.8020, 183.6731, 180.9677, 197.0699, 140.1000]) Cost: 0.802092\n",
      "Epoch   12/20 hypothesis: tensor([152.8020, 183.6731, 180.9677, 197.0699, 140.1000]) Cost: 0.643881\n",
      "Epoch   13/20 hypothesis: tensor([152.8020, 183.6731, 180.9677, 197.0699, 140.1000]) Cost: 0.594160\n",
      "Epoch   14/20 hypothesis: tensor([152.8020, 183.6731, 180.9677, 197.0699, 140.1000]) Cost: 0.578448\n",
      "Epoch   15/20 hypothesis: tensor([152.8020, 183.6731, 180.9677, 197.0699, 140.1000]) Cost: 0.573386\n",
      "Epoch   16/20 hypothesis: tensor([152.8020, 183.6731, 180.9677, 197.0699, 140.1000]) Cost: 0.571673\n",
      "Epoch   17/20 hypothesis: tensor([152.8020, 183.6731, 180.9677, 197.0699, 140.1000]) Cost: 0.571010\n",
      "Epoch   18/20 hypothesis: tensor([152.8020, 183.6731, 180.9677, 197.0699, 140.1000]) Cost: 0.570676\n",
      "Epoch   19/20 hypothesis: tensor([152.8020, 183.6731, 180.9677, 197.0699, 140.1000]) Cost: 0.570440\n",
      "Epoch   20/20 hypothesis: tensor([152.8020, 183.6731, 180.9677, 197.0699, 140.1000]) Cost: 0.570231\n"
     ]
    }
   ],
   "source": [
    "# 데이터\n",
    "x_train = torch.FloatTensor([[73, 80, 75],\n",
    "                             [93, 88, 93],\n",
    "                             [89, 91, 90],\n",
    "                             [96, 98, 100],\n",
    "                             [73, 66, 70]])\n",
    "y_train = torch.FloatTensor([[152], [185], [180], [196], [142]])\n",
    "\n",
    "# 모델 초기화\n",
    "model = MultivariateLinearRegressionModel()\n",
    "\n",
    "# optimizer 설정\n",
    "optimizer = optim.SGD(model.parameters(), lr=1e-5) # model의 파라미터!\n",
    "\n",
    "nb_epochs = 20\n",
    "for epoch in range(nb_epochs + 1):\n",
    "    # H(x) 계산\n",
    "    Hypothesis = model(x_train)\n",
    "    \n",
    "    # cost 계산\n",
    "    cost = F.mse_loss(Hypothesis, y_train)\n",
    "    \n",
    "    # cost로 H(x) 개선\n",
    "    optimizer.zero_grad()\n",
    "    cost.backward()\n",
    "    optimizer.step()\n",
    "    \n",
    "    print('Epoch {:4d}/{} hypothesis: {} Cost: {:.6f}'.format(\n",
    "        epoch, nb_epochs, hypothesis.squeeze().detach(), cost.item()\n",
    "    ))"
   ]
  },
  {
   "cell_type": "markdown",
   "metadata": {},
   "source": [
    "# 3. Multivariable Linear Regression with Dataset and DataLoader (Final)"
   ]
  },
  {
   "cell_type": "code",
   "execution_count": 9,
   "metadata": {},
   "outputs": [],
   "source": [
    "import torch\n",
    "from torch import optim\n",
    "import torch.nn as nn\n",
    "import torch.nn.functional as F\n",
    "from torch.utils.data import Dataset\n",
    "from torch.utils.data import DataLoader"
   ]
  },
  {
   "cell_type": "code",
   "execution_count": 13,
   "metadata": {},
   "outputs": [],
   "source": [
    "# Dataset\n",
    "class CustomDataset(Dataset):\n",
    "    def __init__(self):\n",
    "        self.x_data = [[73, 80, 75],\n",
    "                       [93, 88, 93],\n",
    "                       [89, 91, 90],\n",
    "                       [96, 98, 100],\n",
    "                       [73, 66, 70]]\n",
    "        self.y_data = [[152], [185], [180], [196], [142]]\n",
    "    \n",
    "    def __len__(self):\n",
    "        return len(self.x_data)\n",
    "    \n",
    "    def __getitem__(self, idx):\n",
    "        x = torch.FloatTensor(self.x_data[idx])\n",
    "        y = torch.FloatTensor(self.y_data[idx])\n",
    "        return x, y\n",
    "\n",
    "dataset = CustomDataset()"
   ]
  },
  {
   "cell_type": "code",
   "execution_count": 14,
   "metadata": {},
   "outputs": [],
   "source": [
    "# DataLoader\n",
    "dataloader = DataLoader(\n",
    "    dataset,\n",
    "    batch_size=2,\n",
    "    shuffle=True\n",
    ")"
   ]
  },
  {
   "cell_type": "code",
   "execution_count": 15,
   "metadata": {},
   "outputs": [],
   "source": [
    "class MultivariateLinearRegressionModel(nn.Module):\n",
    "    def __init__(self):\n",
    "        super().__init__()\n",
    "        self.linear = nn.Linear(3, 1) # 입력차원: 3, 출력차원: 1\n",
    "    \n",
    "    def forward(self, x): # Hypothesis 계산\n",
    "        return self.linear(x)"
   ]
  },
  {
   "cell_type": "code",
   "execution_count": 16,
   "metadata": {},
   "outputs": [
    {
     "name": "stdout",
     "output_type": "stream",
     "text": [
      "Epoch    0/20 Batch: 1/3 Cost: 28046.201172\n",
      "Epoch    0/20 Batch: 2/3 Cost: 19746.660156\n",
      "Epoch    0/20 Batch: 3/3 Cost: 5667.567383\n",
      "Epoch    1/20 Batch: 1/3 Cost: 679.330750\n",
      "Epoch    1/20 Batch: 2/3 Cost: 429.745789\n",
      "Epoch    1/20 Batch: 3/3 Cost: 93.460770\n",
      "Epoch    2/20 Batch: 1/3 Cost: 25.248043\n",
      "Epoch    2/20 Batch: 2/3 Cost: 11.477489\n",
      "Epoch    2/20 Batch: 3/3 Cost: 1.096107\n",
      "Epoch    3/20 Batch: 1/3 Cost: 3.764797\n",
      "Epoch    3/20 Batch: 2/3 Cost: 1.046961\n",
      "Epoch    3/20 Batch: 3/3 Cost: 1.182909\n",
      "Epoch    4/20 Batch: 1/3 Cost: 0.413429\n",
      "Epoch    4/20 Batch: 2/3 Cost: 2.799404\n",
      "Epoch    4/20 Batch: 3/3 Cost: 0.138232\n",
      "Epoch    5/20 Batch: 1/3 Cost: 1.906268\n",
      "Epoch    5/20 Batch: 2/3 Cost: 0.251541\n",
      "Epoch    5/20 Batch: 3/3 Cost: 3.351644\n",
      "Epoch    6/20 Batch: 1/3 Cost: 0.884219\n",
      "Epoch    6/20 Batch: 2/3 Cost: 2.577725\n",
      "Epoch    6/20 Batch: 3/3 Cost: 0.912874\n",
      "Epoch    7/20 Batch: 1/3 Cost: 1.444847\n",
      "Epoch    7/20 Batch: 2/3 Cost: 2.317079\n",
      "Epoch    7/20 Batch: 3/3 Cost: 0.080316\n",
      "Epoch    8/20 Batch: 1/3 Cost: 0.385547\n",
      "Epoch    8/20 Batch: 2/3 Cost: 1.589240\n",
      "Epoch    8/20 Batch: 3/3 Cost: 4.118232\n",
      "Epoch    9/20 Batch: 1/3 Cost: 0.423791\n",
      "Epoch    9/20 Batch: 2/3 Cost: 3.576971\n",
      "Epoch    9/20 Batch: 3/3 Cost: 0.371803\n",
      "Epoch   10/20 Batch: 1/3 Cost: 2.749991\n",
      "Epoch   10/20 Batch: 2/3 Cost: 0.372000\n",
      "Epoch   10/20 Batch: 3/3 Cost: 0.372715\n",
      "Epoch   11/20 Batch: 1/3 Cost: 2.612426\n",
      "Epoch   11/20 Batch: 2/3 Cost: 0.350169\n",
      "Epoch   11/20 Batch: 3/3 Cost: 0.267177\n",
      "Epoch   12/20 Batch: 1/3 Cost: 1.842402\n",
      "Epoch   12/20 Batch: 2/3 Cost: 1.570954\n",
      "Epoch   12/20 Batch: 3/3 Cost: 0.132373\n",
      "Epoch   13/20 Batch: 1/3 Cost: 1.967286\n",
      "Epoch   13/20 Batch: 2/3 Cost: 1.682671\n",
      "Epoch   13/20 Batch: 3/3 Cost: 0.506105\n",
      "Epoch   14/20 Batch: 1/3 Cost: 1.392566\n",
      "Epoch   14/20 Batch: 2/3 Cost: 1.841659\n",
      "Epoch   14/20 Batch: 3/3 Cost: 0.423683\n",
      "Epoch   15/20 Batch: 1/3 Cost: 0.287665\n",
      "Epoch   15/20 Batch: 2/3 Cost: 1.619312\n",
      "Epoch   15/20 Batch: 3/3 Cost: 3.303934\n",
      "Epoch   16/20 Batch: 1/3 Cost: 3.019303\n",
      "Epoch   16/20 Batch: 2/3 Cost: 0.287624\n",
      "Epoch   16/20 Batch: 3/3 Cost: 0.122099\n",
      "Epoch   17/20 Batch: 1/3 Cost: 1.193586\n",
      "Epoch   17/20 Batch: 2/3 Cost: 2.104669\n",
      "Epoch   17/20 Batch: 3/3 Cost: 0.625706\n",
      "Epoch   18/20 Batch: 1/3 Cost: 2.761858\n",
      "Epoch   18/20 Batch: 2/3 Cost: 0.303118\n",
      "Epoch   18/20 Batch: 3/3 Cost: 0.184277\n",
      "Epoch   19/20 Batch: 1/3 Cost: 0.131886\n",
      "Epoch   19/20 Batch: 2/3 Cost: 2.977542\n",
      "Epoch   19/20 Batch: 3/3 Cost: 0.224328\n",
      "Epoch   20/20 Batch: 1/3 Cost: 0.339939\n",
      "Epoch   20/20 Batch: 2/3 Cost: 2.615932\n",
      "Epoch   20/20 Batch: 3/3 Cost: 0.372529\n"
     ]
    }
   ],
   "source": [
    "# 모델 초기화\n",
    "model = MultivariateLinearRegressionModel()\n",
    "\n",
    "# optimizer 설정\n",
    "optimizer = optim.SGD(model.parameters(), lr=1e-5) # model의 파라미터!\n",
    "\n",
    "nb_epochs = 20\n",
    "for epoch in range(nb_epochs + 1):\n",
    "    for batch_idx, samples in enumerate(dataloader):\n",
    "        x_train, y_train = samples\n",
    "        \n",
    "        # H(x) 계산\n",
    "        prediction = model(x_train)\n",
    "        \n",
    "        # cost 계산\n",
    "        cost = F.mse_loss(prediction, y_train)\n",
    "        \n",
    "        # cost로 H(x) 개선\n",
    "        optimizer.zero_grad()\n",
    "        cost.backward()\n",
    "        optimizer.step()\n",
    "        \n",
    "        print('Epoch {:4d}/{} Batch: {}/{} Cost: {:.6f}'.format(\n",
    "            epoch, nb_epochs, batch_idx+1, len(dataloader), cost.item()\n",
    "        ))"
   ]
  },
  {
   "cell_type": "code",
   "execution_count": null,
   "metadata": {},
   "outputs": [],
   "source": []
  }
 ],
 "metadata": {
  "interpreter": {
   "hash": "b5a8676ad23f3cc58145972a0c336e77f714f09ac46243a3533a887d514f360b"
  },
  "kernelspec": {
   "display_name": "Python 3.7.10 ('DataMining')",
   "language": "python",
   "name": "python3"
  },
  "language_info": {
   "codemirror_mode": {
    "name": "ipython",
    "version": 3
   },
   "file_extension": ".py",
   "mimetype": "text/x-python",
   "name": "python",
   "nbconvert_exporter": "python",
   "pygments_lexer": "ipython3",
   "version": "3.7.10"
  },
  "orig_nbformat": 4
 },
 "nbformat": 4,
 "nbformat_minor": 2
}
