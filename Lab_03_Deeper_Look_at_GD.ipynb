{
 "cells": [
  {
   "cell_type": "code",
   "execution_count": 2,
   "metadata": {},
   "outputs": [
    {
     "name": "stdout",
     "output_type": "stream",
     "text": [
      "Initial Weight:  tensor([0.])\n",
      "Epoch    1/10 W: 0.000, Cost: 4.666667\n",
      "Epoch    2/10 W: 1.400, Cost: 0.746666\n",
      "Epoch    3/10 W: 0.840, Cost: 0.119467\n",
      "Epoch    4/10 W: 1.064, Cost: 0.019115\n",
      "Epoch    5/10 W: 0.974, Cost: 0.003058\n",
      "Epoch    6/10 W: 1.010, Cost: 0.000489\n",
      "Epoch    7/10 W: 0.996, Cost: 0.000078\n",
      "Epoch    8/10 W: 1.002, Cost: 0.000013\n",
      "Epoch    9/10 W: 0.999, Cost: 0.000002\n",
      "Epoch   10/10 W: 1.000, Cost: 0.000000\n"
     ]
    }
   ],
   "source": [
    "import torch\n",
    "from torch import optim\n",
    "\n",
    "# Data\n",
    "x_train = torch.FloatTensor([[1], [2], [3]])\n",
    "y_train = torch.FloatTensor([[1], [2], [3]])\n",
    "\n",
    "# Initialize the Model\n",
    "W = torch.zeros(1)\n",
    "print('Initial Weight: ', W)\n",
    "\n",
    "# Learning rate 설정\n",
    "lr = 0.1\n",
    "\n",
    "nb_epochs = 10 # gradient 계산 및 W, b 업데이트 반복 횟수\n",
    "for epoch in range(1, nb_epochs + 1):\n",
    "    # bias 제외한 H(x)\n",
    "    hypothesis = x_train * W\n",
    "    \n",
    "    # cost gradient 계산\n",
    "    cost = torch.mean((hypothesis - y_train) ** 2)\n",
    "    gradient = torch.sum((W * x_train - y_train) * x_train)\n",
    "    \n",
    "    print('Epoch {:4d}/{} W: {:.3f}, Cost: {:.6f}'.format(\n",
    "        epoch, nb_epochs, W.item(), cost.item()\n",
    "    ))\n",
    "    \n",
    "    # gradient로 H(x) 개선\n",
    "    W -= lr * gradient"
   ]
  },
  {
   "cell_type": "code",
   "execution_count": null,
   "metadata": {},
   "outputs": [],
   "source": []
  }
 ],
 "metadata": {
  "interpreter": {
   "hash": "b5a8676ad23f3cc58145972a0c336e77f714f09ac46243a3533a887d514f360b"
  },
  "kernelspec": {
   "display_name": "Python 3.7.10 ('DataMining')",
   "language": "python",
   "name": "python3"
  },
  "language_info": {
   "codemirror_mode": {
    "name": "ipython",
    "version": 3
   },
   "file_extension": ".py",
   "mimetype": "text/x-python",
   "name": "python",
   "nbconvert_exporter": "python",
   "pygments_lexer": "ipython3",
   "version": "3.7.10"
  },
  "orig_nbformat": 4
 },
 "nbformat": 4,
 "nbformat_minor": 2
}
